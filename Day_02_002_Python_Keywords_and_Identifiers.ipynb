{
 "cells": [
  {
   "cell_type": "markdown",
   "metadata": {},
   "source": [
    "# Python Keywords and Identifiers\n",
    "\n",
    "In this class, you will learn about keywords (reserved words in Python) and identifiers (names given to variables, functions, etc.)."
   ]
  },
  {
   "cell_type": "markdown",
   "metadata": {},
   "source": [
    "# 1. Python Keywords\n",
    "\n",
    "Keywords are the reserved words in Python.\n",
    "\n",
    "\n",
    "In Python, keywords are **case sensitive**.\n",
    "\n",
    "There are **36** keywords in Python 3.9. This number can vary slightly over the course of time.\n",
    "\n",
    "All the keywords except **`True`**, **`False`** and **`None`** are in lowercase and they must be written as they are. The list of all the keywords is given below.\n",
    "\n",
    "**Keywords in Python**\n",
    "\n",
    "|     |     |     |     |\n",
    "|:----|:----|:----|:----|\n",
    "| **`False`** | **`break`** | **`for`** | **`not`** |\n",
    "| **`None`**  | **`class`** | **`from`** | **`or`** |\n",
    "| **`True`**  | **`continue`** | **`global`** | **`pass`** |\n",
    "| **`__peg_parser__`** |**`def`** | **`if`** | **`raise`** |\n",
    "| **`and`** | **`del`** | **`import`** | **`return`** |\n",
    "| **`as`** | **`elif`** | **`in`** | **`try`** |\n",
    "| **`assert`** | **`else`** | **`is`** | **`while`** |\n",
    "| **`async`** | **`except`** | **`lambda`** | **`with`** |\n",
    "| **`await`** | **`finally`** | **`nonlocal`** |  **`yield`**  |\n",
    "\n",
    "You can see this list any time by typing help **`keywords`** to the Python interpreter. \n",
    "\n",
    "Trying to create a variable with the same name as any reserved word results in an **error**:\n",
    "\n",
    "```python\n",
    ">>>for = 6\n",
    "\n",
    "File \"<ipython-input-1-50b154750974>\", line 1\n",
    "for = 6 # It will give error becasue \"for\" is keyword and we cannot use as a variable name.\n",
    "        ^\n",
    "SyntaxError: invalid syntax\n",
    "```"
   ]
  },
  {
   "cell_type": "code",
   "execution_count": 1,
   "metadata": {},
   "outputs": [
    {
     "ename": "SyntaxError",
     "evalue": "invalid syntax (2630263448.py, line 1)",
     "output_type": "error",
     "traceback": [
      "\u001b[1;36m  File \u001b[1;32m\"C:\\Users\\AJANTHA\\AppData\\Local\\Temp\\ipykernel_60748\\2630263448.py\"\u001b[1;36m, line \u001b[1;32m1\u001b[0m\n\u001b[1;33m    if = 5\u001b[0m\n\u001b[1;37m       ^\u001b[0m\n\u001b[1;31mSyntaxError\u001b[0m\u001b[1;31m:\u001b[0m invalid syntax\n"
     ]
    }
   ],
   "source": [
    "if = 5"
   ]
  },
  {
   "cell_type": "code",
   "execution_count": null,
   "metadata": {},
   "outputs": [],
   "source": []
  },
  {
   "cell_type": "markdown",
   "metadata": {},
   "source": [
    "# 2. Python Identifiers\n",
    "\n",
    "An **identifier** is a name given to entities like **class, functions, variables, etc**. It helps to differentiate one entity from another."
   ]
  },
  {
   "cell_type": "markdown",
   "metadata": {},
   "source": [
    "### Rules for writing identifiers\n",
    "\n",
    "1. **Identifiers** can be a combination of letters in lowercase **(a to z)** or uppercase **(A to Z)** or digits **(0 to 9)** or an underscore **`_`**. Names like **`myClass`**, **`var_1`** and **`print_this_to_screen`**, all are valid example. \n",
    "\n",
    "2. An identifier cannot start with a digit. **`1variable`** is invalid, but **`variable1`** is perfectly fine. \n",
    "\n",
    "3. Keywords cannot be used as identifiers\n",
    "\n",
    "```python\n",
    ">>>global = 3\n",
    "\n",
    "File \"<ipython-input-2-43186c7d3555>\", line 1\n",
    "    global = 3 # because \"global\" is a keyword\n",
    "           ^\n",
    "SyntaxError: invalid syntax\n",
    "```"
   ]
  },
  {
   "cell_type": "code",
   "execution_count": 2,
   "metadata": {},
   "outputs": [
    {
     "ename": "SyntaxError",
     "evalue": "invalid syntax (1912361985.py, line 1)",
     "output_type": "error",
     "traceback": [
      "\u001b[1;36m  File \u001b[1;32m\"C:\\Users\\AJANTHA\\AppData\\Local\\Temp\\ipykernel_60748\\1912361985.py\"\u001b[1;36m, line \u001b[1;32m1\u001b[0m\n\u001b[1;33m    else = 67\u001b[0m\n\u001b[1;37m    ^\u001b[0m\n\u001b[1;31mSyntaxError\u001b[0m\u001b[1;31m:\u001b[0m invalid syntax\n"
     ]
    }
   ],
   "source": [
    "else = 67"
   ]
  },
  {
   "cell_type": "code",
   "execution_count": 4,
   "metadata": {},
   "outputs": [],
   "source": [
    "Else = 67"
   ]
  },
  {
   "cell_type": "code",
   "execution_count": null,
   "metadata": {},
   "outputs": [],
   "source": []
  },
  {
   "cell_type": "code",
   "execution_count": null,
   "metadata": {},
   "outputs": [],
   "source": []
  },
  {
   "cell_type": "markdown",
   "metadata": {},
   "source": [
    "4. We cannot use special symbols like **!**, **@**, **#**,<b> $, % </b>, etc. in our identifier.\n",
    "\n",
    "```python\n",
    ">>>m@ = 3\n",
    "\n",
    "File \"<ipython-input-3-4d4a0e714c73>\", line 1\n",
    "    m@ = 3\n",
    "       ^\n",
    "SyntaxError: invalid syntax\n",
    "```"
   ]
  },
  {
   "cell_type": "code",
   "execution_count": 3,
   "metadata": {},
   "outputs": [],
   "source": [
    "m_ = 5"
   ]
  },
  {
   "cell_type": "code",
   "execution_count": null,
   "metadata": {},
   "outputs": [],
   "source": []
  },
  {
   "cell_type": "markdown",
   "metadata": {},
   "source": [
    "## Things to Remember\n",
    "\n",
    "Python is a case-sensitive language. This means, **`Variable`** and **`variable`** are not the same.\n",
    "\n",
    "Always give the identifiers a name that makes sense. While **`c = 10`** is a valid name, writing **`count = 10`** would make more sense, and it would be easier to figure out what it represents when you look at your code after a long gap.\n",
    "\n",
    "Multiple words can be separated using an underscore, like **`this_is_a_long_variable`**."
   ]
  },
  {
   "cell_type": "code",
   "execution_count": 5,
   "metadata": {},
   "outputs": [
    {
     "data": {
      "text/plain": [
       "67"
      ]
     },
     "execution_count": 5,
     "metadata": {},
     "output_type": "execute_result"
    }
   ],
   "source": [
    "Else"
   ]
  },
  {
   "cell_type": "code",
   "execution_count": 6,
   "metadata": {},
   "outputs": [],
   "source": [
    "ELse = \"ajantha\""
   ]
  },
  {
   "cell_type": "code",
   "execution_count": 7,
   "metadata": {},
   "outputs": [
    {
     "data": {
      "text/plain": [
       "'ajantha'"
      ]
     },
     "execution_count": 7,
     "metadata": {},
     "output_type": "execute_result"
    }
   ],
   "source": [
    "ELse"
   ]
  },
  {
   "cell_type": "code",
   "execution_count": null,
   "metadata": {},
   "outputs": [],
   "source": [
    "#a-z, A-Z, 0-9, _\n",
    "\n",
    "a=5\n",
    "b=8.5\n",
    "count = 10"
   ]
  }
 ],
 "metadata": {
  "gist": {
   "data": {
    "description": "01_Learn_Python4Data/01_Python_Introduction/005_Python_Keywords_and_Identifiers.ipynb",
    "public": true
   },
   "id": ""
  },
  "hide_input": false,
  "kernelspec": {
   "display_name": "Python 3 (ipykernel)",
   "language": "python",
   "name": "python3"
  },
  "language_info": {
   "codemirror_mode": {
    "name": "ipython",
    "version": 3
   },
   "file_extension": ".py",
   "mimetype": "text/x-python",
   "name": "python",
   "nbconvert_exporter": "python",
   "pygments_lexer": "ipython3",
   "version": "3.9.13"
  },
  "toc": {
   "base_numbering": 1,
   "nav_menu": {},
   "number_sections": true,
   "sideBar": true,
   "skip_h1_title": false,
   "title_cell": "Table of Contents",
   "title_sidebar": "Contents",
   "toc_cell": false,
   "toc_position": {},
   "toc_section_display": true,
   "toc_window_display": false
  },
  "varInspector": {
   "cols": {
    "lenName": 16,
    "lenType": 16,
    "lenVar": 40
   },
   "kernels_config": {
    "python": {
     "delete_cmd_postfix": "",
     "delete_cmd_prefix": "del ",
     "library": "var_list.py",
     "varRefreshCmd": "print(var_dic_list())"
    },
    "r": {
     "delete_cmd_postfix": ") ",
     "delete_cmd_prefix": "rm(",
     "library": "var_list.r",
     "varRefreshCmd": "cat(var_dic_list()) "
    }
   },
   "types_to_exclude": [
    "module",
    "function",
    "builtin_function_or_method",
    "instance",
    "_Feature"
   ],
   "window_display": false
  }
 },
 "nbformat": 4,
 "nbformat_minor": 2
}
